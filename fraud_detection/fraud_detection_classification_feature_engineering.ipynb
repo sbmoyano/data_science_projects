{
  "cells": [
    {
      "cell_type": "markdown",
      "metadata": {
        "id": "view-in-github",
        "colab_type": "text"
      },
      "source": [
        "<a href=\"https://colab.research.google.com/github/sbmoyano/data_science_projects/blob/master/fraud_detection/fraud_detection_classification_feature_engineering.ipynb\" target=\"_parent\"><img src=\"https://colab.research.google.com/assets/colab-badge.svg\" alt=\"Open In Colab\"/></a>"
      ]
    },
    {
      "cell_type": "markdown",
      "metadata": {
        "id": "7lFZRg3w_2If"
      },
      "source": [
        "# Introduction\n",
        "\n",
        "Through this notebook I will perfrom feature engineering creating new features from the ones in the original dataset. I will use Sklearn's Custom Transformers and Pipeline."
      ]
    },
    {
      "cell_type": "markdown",
      "metadata": {
        "id": "vsNcSejW_2Ik"
      },
      "source": [
        "# Set environment"
      ]
    },
    {
      "cell_type": "code",
      "execution_count": null,
      "metadata": {
        "id": "XtfO6CFz_2Ik"
      },
      "outputs": [],
      "source": [
        "# Manage paths\n",
        "import sys\n",
        "\n",
        "# Data manipulation\n",
        "import os\n",
        "import json\n",
        "import pandas as pd\n",
        "import numpy as np\n",
        "from datetime import datetime, timedelta\n",
        "\n",
        "# Visualization\n",
        "import seaborn as sns\n",
        "sns.set_style(\"white\")\n",
        "sns.set_context(\"paper\")\n",
        "import matplotlib.pyplot as plt\n",
        "\n",
        "# feature engineering\n",
        "from sklearn.feature_extraction.text import CountVectorizer\n",
        "from sklearn.preprocessing import StandardScaler, OrdinalEncoder\n",
        "from geopy import distance\n",
        "\n",
        "# custom transformers\n",
        "from sklearn.pipeline import Pipeline\n",
        "from sklearn.base import BaseEstimator\n",
        "from sklearn.base import TransformerMixin"
      ]
    },
    {
      "cell_type": "markdown",
      "metadata": {
        "id": "76OpmN5M_2In"
      },
      "source": [
        "# Import data from Google Drive\n",
        "\n",
        "I will import the datasets, drop unnecessary columns and transform \"trans_date_trans_time\" column from object to datetime for further use."
      ]
    },
    {
      "cell_type": "code",
      "execution_count": null,
      "metadata": {
        "colab": {
          "base_uri": "https://localhost:8080/"
        },
        "id": "yDqaqCm3RZbs",
        "outputId": "2b82e5cb-b6f0-4a70-bba0-f4112238f531"
      },
      "outputs": [
        {
          "output_type": "stream",
          "name": "stdout",
          "text": [
            "Mounted at /content/drive\n",
            "/content/drive/My Drive/GITHUB/data_science_projects/fraud_detection\n"
          ]
        }
      ],
      "source": [
        "# connect to GoogleDrive on Colab to import stored data there\n",
        "from google.colab import drive\n",
        "\n",
        "drive.mount('/content/drive')\n",
        "\n",
        "# set out root path in Google Drive\n",
        "%cd /content/drive/My\\ Drive/GITHUB/data_science_projects/fraud_detection/"
      ]
    },
    {
      "cell_type": "code",
      "execution_count": null,
      "metadata": {
        "id": "NskjCm8eRc22"
      },
      "outputs": [],
      "source": [
        "# path for Colab\n",
        "sys.path.append(\"drive/MyDrive/GITHUB/data_science_projects/fraud_detection/\")\n",
        "\n",
        "# path to import pandas and Numpy files\n",
        "root_path_gd = os.getcwd()\n",
        "data_path_gd = os.path.join(root_path_gd, \".data/.processed/\")"
      ]
    },
    {
      "cell_type": "code",
      "source": [
        "def import_data(environment=\"jupyter\"):\n",
        "  \n",
        "  \"\"\"\n",
        "  Import data on a Jupyter notebook or on Google Colab.\n",
        "\n",
        "  Input:\n",
        "    environment (str): Either 'jupyter' or 'colab'. If other string is introduced\n",
        "                       it will raise an exception.\n",
        "  \n",
        "  Output:\n",
        "    preprocessed data: it will include pandas DataFrames and Numpy arrays. It\n",
        "                       will return X_train, X_val, X_test, y_train, y_val and\n",
        "                       y_test as Numpy arrays. Moreover, it will return df_train,\n",
        "                       df_val and df_test as pandas DataFrames. The latter will\n",
        "                       be used when preparing data for the LSTM model.\n",
        "  \"\"\"\n",
        "\n",
        "  if environment == \"jupyter\":\n",
        "    # import on Jupyter Notebook\n",
        "\n",
        "    df_train = pd.read_csv(os.path.join(os.getcwd(), \".processed/df_train.csv\"), \n",
        "                           index_col=0)\n",
        "    df_test = pd.read_csv(os.path.join(os.getcwd(), \".processed/df_test.csv\"), \n",
        "                          index_col=0)\n",
        "    df_val = pd.read_csv(os.path.join(os.getcwd(), \".processed/df_val.csv\"), \n",
        "                         index_col=0)\n",
        "\n",
        "  elif environment == \"colab\":\n",
        "    # import on Google Colab\n",
        "    df_train = pd.read_csv(os.path.join(data_path_gd, \"df_train.csv\"), \n",
        "                           index_col=0)\n",
        "    df_test = pd.read_csv(os.path.join(data_path_gd, \"df_test.csv\"), \n",
        "                          index_col=0)\n",
        "    df_val = pd.read_csv(os.path.join(data_path_gd, \"df_val.csv\"), \n",
        "                         index_col=0)\n",
        "\n",
        "  else:\n",
        "    raise Exception(\"Environment not supported. Try 'jupyter' or 'colab'\")\n",
        "\n",
        "  return df_train, df_test, df_val"
      ],
      "metadata": {
        "id": "OllEjUm6ey78"
      },
      "execution_count": null,
      "outputs": []
    },
    {
      "cell_type": "code",
      "execution_count": null,
      "metadata": {
        "id": "Zsy1nk8mResj"
      },
      "outputs": [],
      "source": [
        "# import on Colab\n",
        "df_train, df_test, df_val = import_data(environment=\"colab\")"
      ]
    },
    {
      "cell_type": "code",
      "execution_count": null,
      "metadata": {
        "id": "NzAOHgBiQexq"
      },
      "outputs": [],
      "source": [
        "# transform \"trans_date_trans_time\" column from object to datetime\n",
        "df_train[\"trans_date_trans_time\"] = pd.to_datetime(df_train[\"trans_date_trans_time\"])\n",
        "df_test[\"trans_date_trans_time\"] = pd.to_datetime(df_test[\"trans_date_trans_time\"])\n",
        "df_val[\"trans_date_trans_time\"] = pd.to_datetime(df_val[\"trans_date_trans_time\"])\n",
        "\n",
        "# sort data by cardholder and transaction date and time before feature engineering\n",
        "df_train.sort_values(by=[\"cc_num\", \"trans_date_trans_time\"], inplace=True)\n",
        "df_test.sort_values(by=[\"cc_num\", \"trans_date_trans_time\"], inplace=True)\n",
        "df_val.sort_values(by=[\"cc_num\", \"trans_date_trans_time\"], inplace=True)"
      ]
    },
    {
      "cell_type": "code",
      "source": [
        "df_train.head()"
      ],
      "metadata": {
        "colab": {
          "base_uri": "https://localhost:8080/",
          "height": 490
        },
        "id": "Cd_Q0d10oAeB",
        "outputId": "6d271f76-a03c-4dc6-cde1-5724f7d427b1"
      },
      "execution_count": null,
      "outputs": [
        {
          "output_type": "execute_result",
          "data": {
            "text/plain": [
              "     trans_date_trans_time       cc_num                     merchant  \\\n",
              "1017   2019-01-01 12:47:15  60416207185  jones, sawayn and romaguera   \n",
              "2724   2019-01-02 08:44:57  60416207185                    berge llc   \n",
              "2726   2019-01-02 08:47:36  60416207185                 luettgen plc   \n",
              "2882   2019-01-02 12:38:14  60416207185                daugherty llc   \n",
              "2907   2019-01-02 13:10:46  60416207185               beier and sons   \n",
              "\n",
              "           category    amt first  last gender            street  \\\n",
              "1017       misc_net   7.27  mary  diaz      f  9886 anita drive   \n",
              "2724  gas_transport  52.94  mary  diaz      f  9886 anita drive   \n",
              "2726  gas_transport  82.08  mary  diaz      f  9886 anita drive   \n",
              "2882      kids_pets  34.79  mary  diaz      f  9886 anita drive   \n",
              "2907           home  27.18  mary  diaz      f  9886 anita drive   \n",
              "\n",
              "               city  ...  merch_lat  merch_long  is_fraud  age  hour  \\\n",
              "1017  fort washakie  ...  43.974711 -109.741904         0   33    12   \n",
              "2724  fort washakie  ...  42.018766 -109.044172         0   33     8   \n",
              "2726  fort washakie  ...  42.961335 -109.157564         0   33     8   \n",
              "2882  fort washakie  ...  42.228227 -108.747683         0   33    12   \n",
              "2907  fort washakie  ...  43.321745 -108.091143         0   33    13   \n",
              "\n",
              "     total_seconds_day month day  year  cohort  \n",
              "1017           46035.0     1   1  2019   30-40  \n",
              "2724           31497.0     1   2  2019   30-40  \n",
              "2726           31656.0     1   2  2019   30-40  \n",
              "2882           45494.0     1   2  2019   30-40  \n",
              "2907           47446.0     1   2  2019   30-40  \n",
              "\n",
              "[5 rows x 29 columns]"
            ],
            "text/html": [
              "\n",
              "  <div id=\"df-daffd7cf-447d-4c62-ab34-2bb7e708ad43\">\n",
              "    <div class=\"colab-df-container\">\n",
              "      <div>\n",
              "<style scoped>\n",
              "    .dataframe tbody tr th:only-of-type {\n",
              "        vertical-align: middle;\n",
              "    }\n",
              "\n",
              "    .dataframe tbody tr th {\n",
              "        vertical-align: top;\n",
              "    }\n",
              "\n",
              "    .dataframe thead th {\n",
              "        text-align: right;\n",
              "    }\n",
              "</style>\n",
              "<table border=\"1\" class=\"dataframe\">\n",
              "  <thead>\n",
              "    <tr style=\"text-align: right;\">\n",
              "      <th></th>\n",
              "      <th>trans_date_trans_time</th>\n",
              "      <th>cc_num</th>\n",
              "      <th>merchant</th>\n",
              "      <th>category</th>\n",
              "      <th>amt</th>\n",
              "      <th>first</th>\n",
              "      <th>last</th>\n",
              "      <th>gender</th>\n",
              "      <th>street</th>\n",
              "      <th>city</th>\n",
              "      <th>...</th>\n",
              "      <th>merch_lat</th>\n",
              "      <th>merch_long</th>\n",
              "      <th>is_fraud</th>\n",
              "      <th>age</th>\n",
              "      <th>hour</th>\n",
              "      <th>total_seconds_day</th>\n",
              "      <th>month</th>\n",
              "      <th>day</th>\n",
              "      <th>year</th>\n",
              "      <th>cohort</th>\n",
              "    </tr>\n",
              "  </thead>\n",
              "  <tbody>\n",
              "    <tr>\n",
              "      <th>1017</th>\n",
              "      <td>2019-01-01 12:47:15</td>\n",
              "      <td>60416207185</td>\n",
              "      <td>jones, sawayn and romaguera</td>\n",
              "      <td>misc_net</td>\n",
              "      <td>7.27</td>\n",
              "      <td>mary</td>\n",
              "      <td>diaz</td>\n",
              "      <td>f</td>\n",
              "      <td>9886 anita drive</td>\n",
              "      <td>fort washakie</td>\n",
              "      <td>...</td>\n",
              "      <td>43.974711</td>\n",
              "      <td>-109.741904</td>\n",
              "      <td>0</td>\n",
              "      <td>33</td>\n",
              "      <td>12</td>\n",
              "      <td>46035.0</td>\n",
              "      <td>1</td>\n",
              "      <td>1</td>\n",
              "      <td>2019</td>\n",
              "      <td>30-40</td>\n",
              "    </tr>\n",
              "    <tr>\n",
              "      <th>2724</th>\n",
              "      <td>2019-01-02 08:44:57</td>\n",
              "      <td>60416207185</td>\n",
              "      <td>berge llc</td>\n",
              "      <td>gas_transport</td>\n",
              "      <td>52.94</td>\n",
              "      <td>mary</td>\n",
              "      <td>diaz</td>\n",
              "      <td>f</td>\n",
              "      <td>9886 anita drive</td>\n",
              "      <td>fort washakie</td>\n",
              "      <td>...</td>\n",
              "      <td>42.018766</td>\n",
              "      <td>-109.044172</td>\n",
              "      <td>0</td>\n",
              "      <td>33</td>\n",
              "      <td>8</td>\n",
              "      <td>31497.0</td>\n",
              "      <td>1</td>\n",
              "      <td>2</td>\n",
              "      <td>2019</td>\n",
              "      <td>30-40</td>\n",
              "    </tr>\n",
              "    <tr>\n",
              "      <th>2726</th>\n",
              "      <td>2019-01-02 08:47:36</td>\n",
              "      <td>60416207185</td>\n",
              "      <td>luettgen plc</td>\n",
              "      <td>gas_transport</td>\n",
              "      <td>82.08</td>\n",
              "      <td>mary</td>\n",
              "      <td>diaz</td>\n",
              "      <td>f</td>\n",
              "      <td>9886 anita drive</td>\n",
              "      <td>fort washakie</td>\n",
              "      <td>...</td>\n",
              "      <td>42.961335</td>\n",
              "      <td>-109.157564</td>\n",
              "      <td>0</td>\n",
              "      <td>33</td>\n",
              "      <td>8</td>\n",
              "      <td>31656.0</td>\n",
              "      <td>1</td>\n",
              "      <td>2</td>\n",
              "      <td>2019</td>\n",
              "      <td>30-40</td>\n",
              "    </tr>\n",
              "    <tr>\n",
              "      <th>2882</th>\n",
              "      <td>2019-01-02 12:38:14</td>\n",
              "      <td>60416207185</td>\n",
              "      <td>daugherty llc</td>\n",
              "      <td>kids_pets</td>\n",
              "      <td>34.79</td>\n",
              "      <td>mary</td>\n",
              "      <td>diaz</td>\n",
              "      <td>f</td>\n",
              "      <td>9886 anita drive</td>\n",
              "      <td>fort washakie</td>\n",
              "      <td>...</td>\n",
              "      <td>42.228227</td>\n",
              "      <td>-108.747683</td>\n",
              "      <td>0</td>\n",
              "      <td>33</td>\n",
              "      <td>12</td>\n",
              "      <td>45494.0</td>\n",
              "      <td>1</td>\n",
              "      <td>2</td>\n",
              "      <td>2019</td>\n",
              "      <td>30-40</td>\n",
              "    </tr>\n",
              "    <tr>\n",
              "      <th>2907</th>\n",
              "      <td>2019-01-02 13:10:46</td>\n",
              "      <td>60416207185</td>\n",
              "      <td>beier and sons</td>\n",
              "      <td>home</td>\n",
              "      <td>27.18</td>\n",
              "      <td>mary</td>\n",
              "      <td>diaz</td>\n",
              "      <td>f</td>\n",
              "      <td>9886 anita drive</td>\n",
              "      <td>fort washakie</td>\n",
              "      <td>...</td>\n",
              "      <td>43.321745</td>\n",
              "      <td>-108.091143</td>\n",
              "      <td>0</td>\n",
              "      <td>33</td>\n",
              "      <td>13</td>\n",
              "      <td>47446.0</td>\n",
              "      <td>1</td>\n",
              "      <td>2</td>\n",
              "      <td>2019</td>\n",
              "      <td>30-40</td>\n",
              "    </tr>\n",
              "  </tbody>\n",
              "</table>\n",
              "<p>5 rows × 29 columns</p>\n",
              "</div>\n",
              "      <button class=\"colab-df-convert\" onclick=\"convertToInteractive('df-daffd7cf-447d-4c62-ab34-2bb7e708ad43')\"\n",
              "              title=\"Convert this dataframe to an interactive table.\"\n",
              "              style=\"display:none;\">\n",
              "        \n",
              "  <svg xmlns=\"http://www.w3.org/2000/svg\" height=\"24px\"viewBox=\"0 0 24 24\"\n",
              "       width=\"24px\">\n",
              "    <path d=\"M0 0h24v24H0V0z\" fill=\"none\"/>\n",
              "    <path d=\"M18.56 5.44l.94 2.06.94-2.06 2.06-.94-2.06-.94-.94-2.06-.94 2.06-2.06.94zm-11 1L8.5 8.5l.94-2.06 2.06-.94-2.06-.94L8.5 2.5l-.94 2.06-2.06.94zm10 10l.94 2.06.94-2.06 2.06-.94-2.06-.94-.94-2.06-.94 2.06-2.06.94z\"/><path d=\"M17.41 7.96l-1.37-1.37c-.4-.4-.92-.59-1.43-.59-.52 0-1.04.2-1.43.59L10.3 9.45l-7.72 7.72c-.78.78-.78 2.05 0 2.83L4 21.41c.39.39.9.59 1.41.59.51 0 1.02-.2 1.41-.59l7.78-7.78 2.81-2.81c.8-.78.8-2.07 0-2.86zM5.41 20L4 18.59l7.72-7.72 1.47 1.35L5.41 20z\"/>\n",
              "  </svg>\n",
              "      </button>\n",
              "      \n",
              "  <style>\n",
              "    .colab-df-container {\n",
              "      display:flex;\n",
              "      flex-wrap:wrap;\n",
              "      gap: 12px;\n",
              "    }\n",
              "\n",
              "    .colab-df-convert {\n",
              "      background-color: #E8F0FE;\n",
              "      border: none;\n",
              "      border-radius: 50%;\n",
              "      cursor: pointer;\n",
              "      display: none;\n",
              "      fill: #1967D2;\n",
              "      height: 32px;\n",
              "      padding: 0 0 0 0;\n",
              "      width: 32px;\n",
              "    }\n",
              "\n",
              "    .colab-df-convert:hover {\n",
              "      background-color: #E2EBFA;\n",
              "      box-shadow: 0px 1px 2px rgba(60, 64, 67, 0.3), 0px 1px 3px 1px rgba(60, 64, 67, 0.15);\n",
              "      fill: #174EA6;\n",
              "    }\n",
              "\n",
              "    [theme=dark] .colab-df-convert {\n",
              "      background-color: #3B4455;\n",
              "      fill: #D2E3FC;\n",
              "    }\n",
              "\n",
              "    [theme=dark] .colab-df-convert:hover {\n",
              "      background-color: #434B5C;\n",
              "      box-shadow: 0px 1px 3px 1px rgba(0, 0, 0, 0.15);\n",
              "      filter: drop-shadow(0px 1px 2px rgba(0, 0, 0, 0.3));\n",
              "      fill: #FFFFFF;\n",
              "    }\n",
              "  </style>\n",
              "\n",
              "      <script>\n",
              "        const buttonEl =\n",
              "          document.querySelector('#df-daffd7cf-447d-4c62-ab34-2bb7e708ad43 button.colab-df-convert');\n",
              "        buttonEl.style.display =\n",
              "          google.colab.kernel.accessAllowed ? 'block' : 'none';\n",
              "\n",
              "        async function convertToInteractive(key) {\n",
              "          const element = document.querySelector('#df-daffd7cf-447d-4c62-ab34-2bb7e708ad43');\n",
              "          const dataTable =\n",
              "            await google.colab.kernel.invokeFunction('convertToInteractive',\n",
              "                                                     [key], {});\n",
              "          if (!dataTable) return;\n",
              "\n",
              "          const docLinkHtml = 'Like what you see? Visit the ' +\n",
              "            '<a target=\"_blank\" href=https://colab.research.google.com/notebooks/data_table.ipynb>data table notebook</a>'\n",
              "            + ' to learn more about interactive tables.';\n",
              "          element.innerHTML = '';\n",
              "          dataTable['output_type'] = 'display_data';\n",
              "          await google.colab.output.renderOutput(dataTable, element);\n",
              "          const docLink = document.createElement('div');\n",
              "          docLink.innerHTML = docLinkHtml;\n",
              "          element.appendChild(docLink);\n",
              "        }\n",
              "      </script>\n",
              "    </div>\n",
              "  </div>\n",
              "  "
            ]
          },
          "metadata": {},
          "execution_count": 22
        }
      ]
    },
    {
      "cell_type": "markdown",
      "source": [
        "## Check that the datasets do not contain duplicated time points"
      ],
      "metadata": {
        "id": "iQx0ovrAg-DC"
      }
    },
    {
      "cell_type": "code",
      "source": [
        "print(\"Set of duplicated dates between train and test sets:\", set(df_train[\"trans_date_trans_time\"]) & set(df_test[\"trans_date_trans_time\"]))\n",
        "print(\"Set of duplicated dates between train and validation sets:\", set(df_train[\"trans_date_trans_time\"]) & set(df_val[\"trans_date_trans_time\"]))\n",
        "print(\"Set of duplicated dates between test and validation sets:\", set(df_test[\"trans_date_trans_time\"]) & set(df_val[\"trans_date_trans_time\"]))"
      ],
      "metadata": {
        "id": "_w3qfESj4EAj",
        "colab": {
          "base_uri": "https://localhost:8080/"
        },
        "outputId": "54d74920-6874-4354-cfa9-f2843f9d250e"
      },
      "execution_count": null,
      "outputs": [
        {
          "output_type": "stream",
          "name": "stdout",
          "text": [
            "Set of duplicated dates between train and test sets: set()\n",
            "Set of duplicated dates between train and validation sets: set()\n",
            "Set of duplicated dates between test and validation sets: set()\n"
          ]
        }
      ]
    },
    {
      "cell_type": "code",
      "source": [
        "print(\"Length of the train set:\", len(df_train))\n",
        "print(\"Length of the test set:\", len(df_test))\n",
        "print(\"Length of the validation set:\", len(df_val))"
      ],
      "metadata": {
        "colab": {
          "base_uri": "https://localhost:8080/"
        },
        "id": "endUa16PoErh",
        "outputId": "c7b46b04-24b1-4d56-ec40-a2db29466563"
      },
      "execution_count": null,
      "outputs": [
        {
          "output_type": "stream",
          "name": "stdout",
          "text": [
            "Length of the train set: 942980\n",
            "Length of the test set: 555719\n",
            "Length of the validation set: 351227\n"
          ]
        }
      ]
    },
    {
      "cell_type": "code",
      "source": [
        "[\"day\", \"week\", \"is_weekend\", \"amt_log\", \"merch_lat\", \"merch_long\",\n",
        "\"total_seconds_day\", \"hour\", \"age\", \"zip\", \"month\", \"city_pop\", \n",
        "\"amt_week_quarter\", \"amt_day_7d_merch\", \"amt_day_30d_merch\", \n",
        "\"amt_day_30d_cat\", \"amt_day_7d_cat\", \"amt_day_month_merch_quarter\", \n",
        "\"amt_day_week_merch_quarter\", \"cumsum_amt_day\", \"cumcount_trans_day\",\n",
        "\"cumcount_trans_month_merch\", \"time_since_last_trans\", \"lag_fraud\",\n",
        "\"distance\"]"
      ],
      "metadata": {
        "id": "0pBgjBuN7Czg"
      },
      "execution_count": null,
      "outputs": []
    },
    {
      "cell_type": "markdown",
      "metadata": {
        "id": "HA64uw5R_2I3"
      },
      "source": [
        "# Feature engineering\n",
        "\n",
        "These are the features that I will keep and create:\n",
        "\n",
        "* hour: hour of the transaction.\n",
        "* day: day of the transaction\n",
        "* week: week of the year of the transaction.\n",
        "* month: month of the transaction.\n",
        "* age: age of the cardholder.\n",
        "* zip: merchant zip.\n",
        "* city_pop: city population.\n",
        "* is_weekend: true if the transaction is done during weekeng, false otherwise.\n",
        "* amt_log: amount of money in the transaction log transformer.\n",
        "* merch_lat: merchant latitude.\n",
        "* merch_long: merchant longitude.\n",
        "* total_seconds_day: total seconds of the day when the transaction was done.\n",
        "* amt_week_quarter: average amount spent in a week in the last quarter.\n",
        "* amt_day_7d_merch: average amount spent per day in the past week by merchant.\n",
        "* amt_day_30d_merch: average amount spent per day in the last month by merchant.\n",
        "* amt_day_30d_cat: average amount spent per day in the last month by merchant category.\n",
        "* amt_day_7d_cat: average amount spent per day in the last week by merchant category.\n",
        "* amt_day_month_merch_quarter: average amount spent per day in the last month each quarter by merchant.\n",
        "* amt_day_week_merch_quarter: average amount spent per day in the last week each quarter by merchant.\n",
        "* cumsum_amt_day: cumulative sum of amount of money spend in transactions during a day.\n",
        "* cumcount_trans_day: cumulative count of transactions during a day.\n",
        "* cumcount_trans_month_merch: cumulative count of transactions \n",
        "* time_since_last_trans: time passed since the last transaction.\n",
        "* lag_fraud: whether the previous transaction to the current one was fraud or not.\n",
        "* distance: distance between merchants of consecutive transactions.\n",
        "\n",
        "*https://www.semanticscholar.org/paper/Data-mining-for-credit-card-fraud%3A-A-comparative-Bhattacharyya-Jha/9d26f0ba02ee5efe9b9c7bdcb5f528c8b8253cf7?p2df\n",
        "https://medium.com/dataman-in-ai/how-to-create-good-features-in-fraud-detection-de6562f249ef*"
      ]
    },
    {
      "cell_type": "code",
      "execution_count": null,
      "metadata": {
        "id": "9SN4_UXR_2I5"
      },
      "outputs": [],
      "source": [
        "# import Python file with custom transformers to perform feature engineering\n",
        "# these are the same classes used in the feature engineering notebook that\n",
        "# have been saved to a Python file.\n",
        "from fd_sklearn_custom_transformers import *"
      ]
    },
    {
      "cell_type": "code",
      "execution_count": null,
      "metadata": {
        "id": "bvIMzgsV_2I6"
      },
      "outputs": [],
      "source": [
        "features_pipe = Pipeline([(\"week_info\", WeekInfo()),\n",
        "                          (\"log_amount\", LogAmount(amount_col_name=\"amt\")),\n",
        "                          (\"day_nightime\", DayNightime(datetime_col_name=\"trans_date_trans_time\")),\n",
        "                          (\"remove_strings\", TimeSinceLastTransaction(trans_id_col_name=\"cc_num\", \n",
        "                                                                      datetime_col_name=\"trans_date_trans_time\")),\n",
        "                          (\"average_amount_week_quarter\", AvAmountWeekQuarter(trans_id_col_name=\"cc_num\", \n",
        "                                                                              datetime_col_name=\"trans_date_trans_time\", \n",
        "                                                                              year_col_name=\"year\", \n",
        "                                                                              week_col_name=\"week\", \n",
        "                                                                              amount_col_name=\"amt\")),\n",
        "                          (\"average_amount_day_month\", AvAmounDayMonth(trans_id_col_name=\"cc_num\", \n",
        "                                                                       datetime_col_name=\"trans_date_trans_time\", \n",
        "                                                                       year_col_name=\"year\", \n",
        "                                                                       month_col_name=\"month\", \n",
        "                                                                       day_col_name=\"day\", \n",
        "                                                                       amount_col_name=\"amt\")),\n",
        "                         (\"average_amount_week_month_merchant\", AvAmounWeekMonthMerchant(trans_id_col_name=\"cc_num\", \n",
        "                                                                                         datetime_col_name=\"trans_date_trans_time\", \n",
        "                                                                                         merchant_col_name=\"merchant\", \n",
        "                                                                                         amount_col_name=\"amt\")),\n",
        "                         (\"average_amount_week_month_category\", AvAmounWeekMonthCategory(trans_id_col_name=\"cc_num\", \n",
        "                                                                                         datetime_col_name=\"trans_date_trans_time\", \n",
        "                                                                                         category_col_name=\"category\", \n",
        "                                                                                         amount_col_name=\"amt\")),\n",
        "                         (\"average_amount_week_month_merchant_quarter\", AvAmounWeekMonthMerchantQuarter(trans_id_col_name=\"cc_num\", \n",
        "                                                                                                        datetime_col_name=\"trans_date_trans_time\", \n",
        "                                                                                                        merchant_col_name=\"merchant\", \n",
        "                                                                                                        amount_col_name=\"amt\")),\n",
        "                         (\"cumulative_sum_amount_day\", CumSumAmountDay(trans_id_col_name=\"cc_num\", \n",
        "                                                                       datetime_col_name=\"trans_date_trans_time\", \n",
        "                                                                       merchant_col_name=\"merchant\", \n",
        "                                                                       amount_col_name=\"amt\")),\n",
        "                         (\"merchant_distance\", DistanceTransactions(trans_id_col_name=\"cc_num\", \n",
        "                                                                    datetime_col_name=\"trans_date_trans_time\", \n",
        "                                                                    merchant_col_name=\"merchant\", \n",
        "                                                                    merchant_lat_col_name=\"merch_lat\", \n",
        "                                                                    merchant_long_col_name=\"merch_long\"))])"
      ]
    },
    {
      "cell_type": "markdown",
      "metadata": {
        "id": "JRonm-QL_2I7"
      },
      "source": [
        "## Perform feature engineering\n",
        "\n",
        "I have created a custom function to perform all the neccesary steps to get the data ready to be passed to the model. \n",
        "\n",
        "1. First, I will split the train, test and validation sets into X and y. \n",
        "2. y data is transformed to Numpy arrays.\n",
        "3. Our feature engineering pipeline is applied to X data in all the different sets.\n",
        "4. X data is normalized using Sklearn's StandardScaler. I decided not to include StandardScaler into the Pipeline as after the feature engineering process, I want to select which features should be retained at this stage. Consequently, I want to have a pandas DataFrame to select those features, as after StandardScaler is applied, it returns Numpy arrays without labels.\n",
        "\n",
        "Some features removed:\n",
        "\n",
        "- City: as I already have the same information coded in 'zip'.\n",
        "- Job: this feature has a high cardinality, which will create thousands of columns if it is one-hot encoded. The most efficient way to preprocess this feature is to use embeddings. But this is not going to be covered in the current project.\n",
        "- State: as I already have 'zip' information, I do not need a more global variable. In any case, I can try to fit a model with this variable one-hot encoded to see if the results improve."
      ]
    },
    {
      "cell_type": "code",
      "execution_count": null,
      "metadata": {
        "id": "hS49ttYY_2I7"
      },
      "outputs": [],
      "source": [
        "def prepare_features(df_train, df_test, df_val, feat_stand, feat_cat, \n",
        "                     feat_encode, return_numpy=False):\n",
        "    \n",
        "    \"\"\"\n",
        "    Function to perform feature engineering using the previous pipeline\n",
        "    for each dataset: train, test and validation.\n",
        "\n",
        "    Input:\n",
        "      feat_stand (list): list of features to be standardized using StandardScaler.\n",
        "      feat_cat (list): list of categorical features to by dummy coded.\n",
        "      feat_encode (list): list of features to be encoded with Label Encoder.\n",
        "      return_numpy (bool): if True a Numpy file will be returned, otherwise\n",
        "                          a pandas DataFrame.\n",
        "\n",
        "    Output:\n",
        "      X_train (DataFrame or Numpy): features data for the train set.\n",
        "      X_test (DataFrame or Numpy): features data for the test set.\n",
        "      X_val (DataFrame or Numpy): features data for the validation set.\n",
        "      y_train (DataFrame or Numpy): ground truth data for the train set.\n",
        "      y_test (DataFrame or Numpy): ground truth data for the test set.\n",
        "      y_val (DataFrame or Numpy): ground truth data for the validation set.\n",
        "    \"\"\"\n",
        "\n",
        "    # instantiate Sklearn's StandardScaler\n",
        "    ss = Scaler(cols_to_std=feat_stand)\n",
        "    dm = Dummies(cols_to_dummy=feat_cat)\n",
        "    ec = Encoder(cols_to_encode=feat_encode)\n",
        "    \n",
        "    # split data into X and y\n",
        "    X_train = df_train.drop(columns=[\"is_fraud\"])\n",
        "    X_test = df_test.drop(columns=[\"is_fraud\"])\n",
        "    X_val = df_val.drop(columns=[\"is_fraud\"])\n",
        "    \n",
        "    # slice y data\n",
        "    y_train = df_train[\"is_fraud\"]\n",
        "    y_test = df_test[\"is_fraud\"]\n",
        "    y_val = df_val[\"is_fraud\"]\n",
        "    \n",
        "    # slice X data keeping only categorical features\n",
        "    X_train_cat = X_train[feat_cat]\n",
        "    X_test_cat = X_test[feat_cat]\n",
        "    X_val_cat = X_val[feat_cat]\n",
        "\n",
        "    # slice x data to encode labels\n",
        "    X_train_ec = X_train[feat_encode]\n",
        "    X_test_ec = X_test[feat_encode]\n",
        "    X_val_ec = X_val[feat_encode]\n",
        "    \n",
        "    # lag features (cannot be inserted in the pipeline) as it seems\n",
        "    # that fit_transform of the Custom Transformer does not include\n",
        "    # y. So I have to create a Custom Transformer specifying fit_transform\n",
        "    lf = LagFeatures()\n",
        "    X_train = lf.transform(X_train, y_train)\n",
        "    X_test = lf.transform(X_test, y_test)\n",
        "    X_val = lf.transform(X_val, y_val)\n",
        "    \n",
        "    # fit features pipeline to X data. As I do not need y data for the rest\n",
        "    # of the features, I can directly use the Pipeline with all the custom\n",
        "    # transformers created\n",
        "    print(\"ON FEATURES PIPELINE: working of the training set\")\n",
        "    X_train = features_pipe.fit_transform(X_train)\n",
        "    print(\"\\nON FEATURES PIPELINE: Working of the test set\")\n",
        "    X_test = features_pipe.transform(X_test)\n",
        "    print(\"\\nON FEATURES PIPELINE: working of the validation set\")\n",
        "    X_val = features_pipe.transform(X_val)\n",
        "    \n",
        "    # final features to standardize\n",
        "    #features = [col for col in X_train.columns for col_name in feat_stand if col_name in col]\n",
        "    \n",
        "    # normalize the data fitting StandardScaler \n",
        "    # only on the training set\n",
        "    print(\"\\nSTANDARDIZING THE DATA\")\n",
        "    X_train = ss.fit_transform(X_train)\n",
        "    X_test = ss.transform(X_test)\n",
        "    X_val = ss.transform(X_val)\n",
        "    \n",
        "    # dummy coding\n",
        "    print(\"\\nDUMMY CODING CATEGORICAL VARIABLES\")\n",
        "    X_train_dummy = dm.fit_transform(X_train_cat).reset_index(drop=True)\n",
        "    X_test_dummy = dm.transform(X_test_cat).reset_index(drop=True)\n",
        "    X_val_dummy = dm.transform(X_val_cat).reset_index(drop=True)\n",
        "    \n",
        "    # label encoder\n",
        "    print(\"\\LABEL ENCODER FOR CATEGORICAL VARIABLES\")\n",
        "    X_train_encoded = ec.fit_transform(X_train_ec).reset_index(drop=True)\n",
        "    X_test_encoded = ec.transform(X_test_ec).reset_index(drop=True)\n",
        "    X_val_encoded = ec.transform(X_val_ec).reset_index(drop=True)\n",
        "\n",
        "    # merge\n",
        "    X_train = X_train.merge(X_train_dummy, how='inner', left_index=True, right_index=True).merge(\n",
        "        X_train_encoded, how='inner', left_index=True, right_index=True\n",
        "    )\n",
        "    X_test = X_test.merge(X_test_dummy, how='inner', left_index=True, right_index=True).merge(\n",
        "        X_test_encoded, how='inner', left_index=True, right_index=True\n",
        "    )\n",
        "    X_val = X_val.merge(X_val_dummy, how='inner', left_index=True, right_index=True).merge(\n",
        "        X_val_encoded, how='inner', left_index=True, right_index=True\n",
        "    )\n",
        "    \n",
        "    if return_numpy:\n",
        "        # transform y and X data into Numpy arrays\n",
        "        y_train = y_train.to_numpy()\n",
        "        y_test = y_test.to_numpy()\n",
        "        y_val = y_val.to_numpy()\n",
        "\n",
        "        X_train = X_train.to_numpy()\n",
        "        X_test = X_test.to_numpy()\n",
        "        X_val = X_val.to_numpy()\n",
        "    else:\n",
        "        pass\n",
        "    \n",
        "    print(\"\\nShape of the train set: X -> - {} Y -> {}\".format(X_train.shape, y_train.shape))\n",
        "    print(\"Shape of the test set: X -> {} - Y -> {}\".format(X_test.shape, y_test.shape))\n",
        "    print(\"Shape of the valiation set: X -> - {} Y -> {}\".format(X_val.shape, y_val.shape))\n",
        "    \n",
        "    return X_train, X_test, X_val, y_train, y_test, y_val"
      ]
    },
    {
      "cell_type": "code",
      "execution_count": null,
      "metadata": {
        "id": "6VecGJiJSHNw"
      },
      "outputs": [],
      "source": [
        "features_to_standardize = [\"day\", \"week\", \"is_weekend\", \"amt_log\", \"merch_lat\", \"merch_long\",\n",
        "                           \"total_seconds_day\", \"hour\", \"age\", \"zip\", \"month\", \"city_pop\", \n",
        "                           \"amt_week_quarter\", \"amt_day_7d_merch\", \"amt_day_30d_merch\", \n",
        "                           \"amt_day_30d_cat\", \"amt_day_7d_cat\", \"amt_day_month_merch_quarter\", \n",
        "                           \"amt_day_week_merch_quarter\", \"cumsum_amt_day\", \"cumcount_trans_day\",\n",
        "                           \"cumcount_trans_month_merch\", \"time_since_last_trans\", \"lag_fraud\",\n",
        "                           \"distance\"]\n",
        "\n",
        "# As I have zip codes, I do not need the feature \"city\"\n",
        "# Similarly, as I have \"merch lat\" and \"merch long\" I do not need \"merchant category\"\n",
        "features_categorical = [\"gender\", \"category\"]"
      ]
    },
    {
      "cell_type": "code",
      "source": [
        "X_train_df, X_test_df, X_val_df, y_train_df, y_test_df, y_val_df = prepare_features(df_train, df_test, df_val, features_to_standardize, features_categorical, [], return_numpy=False)"
      ],
      "metadata": {
        "colab": {
          "base_uri": "https://localhost:8080/"
        },
        "id": "5LzfT-hV8ohy",
        "outputId": "88d93155-a5a1-4a04-aeac-bc81987a856b"
      },
      "execution_count": null,
      "outputs": [
        {
          "output_type": "stream",
          "name": "stdout",
          "text": [
            "Creating lag features\n",
            "Creating lag features\n",
            "Creating lag features\n",
            "ON FEATURES PIPELINE: working of the training set\n",
            "Coding week information\n",
            "Log transforming amount column\n",
            "Setting daytime or nighttime of transactions\n",
            "Computing the time passed since the previous transaction\n",
            "Computing the average amount spent in transactions per week every 3 months\n",
            "Computing the average amount spent per day in a month\n",
            "Computing the average amount spent per day in 30 and 7 days by merchant\n",
            "Computing the average amount spent per day in 30 and 7 days by category\n",
            "Computing the average amount spent per day in 30 and 7 days by merchant by quarter\n",
            "Computing the cumulative sum of the amount spend by day and number of transactions spend by day and merchant in 30 days\n",
            "Computing the distance between consecutive merchants by date\n",
            "\n",
            "ON FEATURES PIPELINE: Working of the test set\n",
            "Coding week information\n",
            "Log transforming amount column\n",
            "Setting daytime or nighttime of transactions\n",
            "Computing the time passed since the previous transaction\n",
            "Computing the average amount spent in transactions per week every 3 months\n",
            "Computing the average amount spent per day in a month\n",
            "Computing the average amount spent per day in 30 and 7 days by merchant\n",
            "Computing the average amount spent per day in 30 and 7 days by category\n",
            "Computing the average amount spent per day in 30 and 7 days by merchant by quarter\n",
            "Computing the cumulative sum of the amount spend by day and number of transactions spend by day and merchant in 30 days\n",
            "Computing the distance between consecutive merchants by date\n",
            "\n",
            "ON FEATURES PIPELINE: working of the validation set\n",
            "Coding week information\n",
            "Log transforming amount column\n",
            "Setting daytime or nighttime of transactions\n",
            "Computing the time passed since the previous transaction\n",
            "Computing the average amount spent in transactions per week every 3 months\n",
            "Computing the average amount spent per day in a month\n",
            "Computing the average amount spent per day in 30 and 7 days by merchant\n",
            "Computing the average amount spent per day in 30 and 7 days by category\n",
            "Computing the average amount spent per day in 30 and 7 days by merchant by quarter\n",
            "Computing the cumulative sum of the amount spend by day and number of transactions spend by day and merchant in 30 days\n",
            "Computing the distance between consecutive merchants by date\n",
            "\n",
            "STANDARDIZING THE DATA\n",
            "Scaling variables\n",
            "Scaling variables\n",
            "Scaling variables\n",
            "\n",
            "DUMMY CODING CATEGORICAL VARIABLES\n",
            "Dummy coding categorical variables\n",
            "Dummy coding categorical variables\n",
            "Dummy coding categorical variables\n",
            "\\LABEL ENCODER FOR CATEGORICAL VARIABLES\n",
            "Scaling variables\n",
            "Scaling variables\n",
            "Scaling variables\n",
            "\n",
            "Shape of the train set: X -> - (942980, 39) Y -> (942980,)\n",
            "Shape of the test set: X -> (555719, 39) - Y -> (555719,)\n",
            "Shape of the valiation set: X -> - (351227, 39) Y -> (351227,)\n"
          ]
        }
      ]
    },
    {
      "cell_type": "code",
      "execution_count": null,
      "metadata": {
        "colab": {
          "base_uri": "https://localhost:8080/"
        },
        "id": "2KXgPOK1_2I7",
        "outputId": "1683edfe-d548-4894-b2c0-ec6270923df4"
      },
      "outputs": [
        {
          "output_type": "stream",
          "name": "stdout",
          "text": [
            "Creating lag features\n",
            "Creating lag features\n",
            "Creating lag features\n",
            "ON FEATURES PIPELINE: working of the training set\n",
            "Coding week information\n",
            "Log transforming amount column\n",
            "Setting daytime or nighttime of transactions\n",
            "Computing the time passed since the previous transaction\n",
            "Computing the average amount spent in transactions per week every 3 months\n",
            "Computing the average amount spent per day in a month\n",
            "Computing the average amount spent per day in 30 and 7 days by merchant\n",
            "Computing the average amount spent per day in 30 and 7 days by category\n",
            "Computing the average amount spent per day in 30 and 7 days by merchant by quarter\n",
            "Computing the cumulative sum of the amount spend by day and number of transactions spend by day and merchant in 30 days\n",
            "Computing the distance between consecutive merchants by date\n",
            "\n",
            "ON FEATURES PIPELINE: Working of the test set\n",
            "Coding week information\n",
            "Log transforming amount column\n",
            "Setting daytime or nighttime of transactions\n",
            "Computing the time passed since the previous transaction\n",
            "Computing the average amount spent in transactions per week every 3 months\n",
            "Computing the average amount spent per day in a month\n",
            "Computing the average amount spent per day in 30 and 7 days by merchant\n",
            "Computing the average amount spent per day in 30 and 7 days by category\n",
            "Computing the average amount spent per day in 30 and 7 days by merchant by quarter\n",
            "Computing the cumulative sum of the amount spend by day and number of transactions spend by day and merchant in 30 days\n",
            "Computing the distance between consecutive merchants by date\n",
            "\n",
            "ON FEATURES PIPELINE: working of the validation set\n",
            "Coding week information\n",
            "Log transforming amount column\n",
            "Setting daytime or nighttime of transactions\n",
            "Computing the time passed since the previous transaction\n",
            "Computing the average amount spent in transactions per week every 3 months\n",
            "Computing the average amount spent per day in a month\n",
            "Computing the average amount spent per day in 30 and 7 days by merchant\n",
            "Computing the average amount spent per day in 30 and 7 days by category\n",
            "Computing the average amount spent per day in 30 and 7 days by merchant by quarter\n",
            "Computing the cumulative sum of the amount spend by day and number of transactions spend by day and merchant in 30 days\n",
            "Computing the distance between consecutive merchants by date\n",
            "\n",
            "STANDARDIZING THE DATA\n",
            "Scaling variables\n",
            "Scaling variables\n",
            "Scaling variables\n",
            "\n",
            "DUMMY CODING CATEGORICAL VARIABLES\n",
            "Dummy coding categorical variables\n",
            "Dummy coding categorical variables\n",
            "Dummy coding categorical variables\n",
            "\\LABEL ENCODER FOR CATEGORICAL VARIABLES\n",
            "Scaling variables\n",
            "Scaling variables\n",
            "Scaling variables\n",
            "\n",
            "Shape of the train set: X -> - (942980, 39) Y -> (942980,)\n",
            "Shape of the test set: X -> (555719, 39) - Y -> (555719,)\n",
            "Shape of the valiation set: X -> - (351227, 39) Y -> (351227,)\n"
          ]
        }
      ],
      "source": [
        "X_train_np, X_test_np, X_val_np, y_train_np, y_test_np, y_val_np = prepare_features(df_train, df_test, df_val, features_to_standardize, features_categorical, [], return_numpy=True)"
      ]
    },
    {
      "cell_type": "markdown",
      "metadata": {
        "id": "Mq_xp_00_2I7"
      },
      "source": [
        "## Save data to the current working directory folders"
      ]
    },
    {
      "cell_type": "code",
      "source": [
        "def save_data(X_train, X_test, X_val, y_train, y_test, y_val, numpy=False, \n",
        "              environment=\"colab\"):\n",
        "  \"\"\"\n",
        "  Function to save pandas DataFrames for X and y data of train, test and\n",
        "  validation sets into csv files. It does not return anything.\n",
        "\n",
        "  Input:\n",
        "    X_train (DataFrame): feature data of the train set.\n",
        "    X_test (DataFrame): feature data of the test set.\n",
        "    X_val (DataFrame): feature data of the validation set.\n",
        "    y_train (DataFrame): ground truth data of the train set.\n",
        "    y_test (DataFrame): ground truth data of the test set.\n",
        "    y_val (DataFrame): ground truth data of the validation set.\n",
        "    environment (str): either \"colab\" to save the DataFrames in a Google\n",
        "                       Collaboratory environment or \"jupyter\" for a Jupyter\n",
        "                       Notebook.\n",
        "  \n",
        "  Output:\n",
        "    None\n",
        "  \"\"\"\n",
        "\n",
        "  if environment == \"jupyter\":\n",
        "    if numpy:\n",
        "      # save on Jupyer Notebook\n",
        "      np.save(os.path.join(os.getcwd(), \".data/.processed/X_train.npy\"), X_train)\n",
        "      np.save(os.path.join(os.getcwd(), \".data/.processed/X_test.npy\"), X_test)\n",
        "      np.save(os.path.join(os.getcwd(), \".data/.processed/X_val_npy\"), X_val)\n",
        "\n",
        "      np.save(os.path.join(os.getcwd(), \".data/.processed/y_train.npy\"), y_train)\n",
        "      np.save(os.path.join(os.getcwd(), \".data/.processed/y_test.npy\"), y_test)\n",
        "      np.save(os.path.join(os.getcwd(), \".data/.processed/y_val.npy\"), y_val)\n",
        "    else:\n",
        "      X_train.to_csv(os.path.join(os.getcwd(), \".data/.processed/X_train_df.csv\"))\n",
        "      X_test.to_csv(os.path.join(os.getcwd(), \".data/.processed/X_test_df.csv\"))\n",
        "      X_val.to_csv(os.path.join(os.getcwd(), \".data/.processed/X_val_df.csv\"))\n",
        "\n",
        "      y_train.to_csv(os.path.join(os.getcwd(), \".data/.processed/y_train_df.csv\"))\n",
        "      y_test.to_csv(os.path.join(os.getcwd(), \".data/.processed/y_test_df.csv\"))\n",
        "      y_val.to_csv(os.path.join(os.getcwd(), \".data/.processed/y_val_df.csv\"))\n",
        "  if environment == \"colab\":\n",
        "    if numpy:\n",
        "      # save on Colab\n",
        "      np.save(os.path.join(data_path_gd, \"X_train_np.npy\"), X_train)\n",
        "      np.save(os.path.join(data_path_gd, \"X_test_np.npy\"), X_test)\n",
        "      np.save(os.path.join(data_path_gd, \"X_val_np.npy\"), X_val)\n",
        "\n",
        "      np.save(os.path.join(data_path_gd, \"y_train_np.npy\"), y_train)\n",
        "      np.save(os.path.join(data_path_gd, \"y_test_np.npy\"), y_test)\n",
        "      np.save(os.path.join(data_path_gd, \"y_val_np.npy\"), y_val)\n",
        "    else:\n",
        "      X_train.to_csv(os.path.join(data_path_gd, \"X_train_df.csv\"))\n",
        "      X_test.to_csv(os.path.join(data_path_gd, \"X_test_df.csv\"))\n",
        "      X_val.to_csv(os.path.join(data_path_gd, \"X_val_df.csv\"))\n",
        "\n",
        "      y_train.to_csv(os.path.join(data_path_gd, \"y_train_df.csv\"))\n",
        "      y_test.to_csv(os.path.join(data_path_gd, \"y_test_df.csv\"))\n",
        "      y_val.to_csv(os.path.join(data_path_gd, \"y_val_df.csv\"))"
      ],
      "metadata": {
        "id": "b6Rz05lViw8j"
      },
      "execution_count": null,
      "outputs": []
    },
    {
      "cell_type": "code",
      "source": [
        "save_data(X_train_np, X_test_np, X_val_np, y_train_np, y_test_np, y_val_np, numpy=True, environment=\"colab\")\n",
        "save_data(X_train_df, X_test_df, X_val_df, y_train_df, y_test_df, y_val_df, numpy=False, environment=\"colab\")"
      ],
      "metadata": {
        "id": "2O37a74fjVsp"
      },
      "execution_count": null,
      "outputs": []
    },
    {
      "cell_type": "markdown",
      "source": [
        "## Load data"
      ],
      "metadata": {
        "id": "_S58YzoAlv2S"
      }
    },
    {
      "cell_type": "code",
      "source": [
        "def load_data(numpy=False, environment=\"colab\"):\n",
        "  \n",
        "  \"\"\"\n",
        "  Function to load csv files for X and y data of the train, test and validation\n",
        "  sets and return them as pandas DataFrames.\n",
        "\n",
        "  Input:\n",
        "    Numpy (bool): False to import csv files, otherwise True to import numpy \n",
        "                  arrays.\n",
        "    environment (str): either \"colab\" for a Google Collaboratory environment or\n",
        "                       \"jupyter\" for a Jupyter Notebook.\n",
        "  Output:\n",
        "    X_train (DataFrame or Numpy array): feature data for the train set.\n",
        "    X_test (DataFrame or Numpy array): feature data for the test set.\n",
        "    X_val (DataFrame or Numpy array): feature data for the validation set.\n",
        "    y_train (DataFrame or Numpy array): ground truth data for the train set.\n",
        "    y_test (DataFrame or Numpy array): ground truth data for the test set.\n",
        "    y_val (DataFrame or Numpy array): ground truth data for the validation set.\n",
        "  \"\"\"\n",
        "  \n",
        "  if environment == \"jupyter\":\n",
        "    if numpy:\n",
        "      # import on Jupyter Notebook\n",
        "      X_train = np.load(os.path.join(os.getcwd(), \".data/.processed\"), \"X_train_np.npy\")\n",
        "      X_test = np.load(os.path.join(os.getcwd(), \".data/.processed\"), \"X_test_np.npy\")\n",
        "      X_val = np.load(os.path.join(os.getcwd(), \".data/.processed\"), \"X_train_np.npy\")\n",
        "      y_train = np.load(os.path.join(os.getcwd(), \".data/.processed\"), \"y_train_np.npy\")\n",
        "      y_test = np.load(os.path.join(os.getcwd(), \".data/.processed\"), \"y_test_np.npy\")\n",
        "      y_val = np.load(os.path.join(os.getcwd(), \".data/.processed\"), \"y_val_np.npy\")\n",
        "    else:\n",
        "      X_train = pd.read_csv(os.path.join(os.getcwd(), \".data/.processed/X_train_df.csv\"), index_col=0)\n",
        "      X_test = pd.read_csv(os.path.join(os.getcwd(), \".data/.processed/X_test_df.csv\"), index_col=0)\n",
        "      X_val = pd.read_csv(os.path.join(os.getcwd(), \".data/.processed/X_val_df.csv\"), index_col=0)\n",
        "      y_train = pd.read_csv(os.path.join(os.getcwd(), \".data/.processed/y_train_df.csv\"), index_col=0)\n",
        "      y_test = pd.read_csv(os.path.join(os.getcwd(), \".data/.processed/y_test_df.csv\"), index_col=0)\n",
        "      y_val = pd.read_csv(os.path.join(os.getcwd(), \".data/.processed/y_val_df.csv\"), index_col=0)\n",
        "  \n",
        "  if environment == \"colab\":\n",
        "    if numpy:\n",
        "      X_train = np.load(os.path.join(data_path_gd, \"X_train_np.npy\"))\n",
        "      X_test = np.load(os.path.join(data_path_gd, \"X_test_np.npy\"))\n",
        "      X_val = np.load(os.path.join(data_path_gd, \"X_val_np.npy\"))\n",
        "      y_train = np.load(os.path.join(data_path_gd, \"y_train_np.npy\"))\n",
        "      y_test = np.load(os.path.join(data_path_gd, \"y_test_np.npy\"))\n",
        "      y_val = np.load(os.path.join(data_path_gd, \"y_val_np.npy\"))\n",
        "    else:\n",
        "      X_train = pd.read_csv(os.path.join(data_path_gd, \"X_train_df.csv\"), index_col=0)\n",
        "      X_test = pd.read_csv(os.path.join(data_path_gd, \"X_test_df.csv\"), index_col=0)\n",
        "      X_val = pd.read_csv(os.path.join(data_path_gd, \"X_val_df.csv\"), index_col=0)\n",
        "      y_train = pd.read_csv(os.path.join(data_path_gd, \"y_train_df.csv\"), index_col=0)\n",
        "      y_test = pd.read_csv(os.path.join(data_path_gd, \"y_test_df.csv\"), index_col=0)\n",
        "      y_val = pd.read_csv(os.path.join(data_path_gd, \"y_val_df.csv\"), index_col=0)\n",
        "  \n",
        "  return X_train, X_test, X_val, y_train, y_test, y_val"
      ],
      "metadata": {
        "id": "4rQ383Lujp3I"
      },
      "execution_count": null,
      "outputs": []
    },
    {
      "cell_type": "code",
      "source": [
        "X_train_np, X_test_np, X_val_np, y_train_np, y_test_np, y_val_np = load_data(numpy=True, environment=\"colab\")"
      ],
      "metadata": {
        "id": "0l9HOxgelJPp"
      },
      "execution_count": null,
      "outputs": []
    },
    {
      "cell_type": "code",
      "source": [
        "X_train_np"
      ],
      "metadata": {
        "colab": {
          "base_uri": "https://localhost:8080/"
        },
        "id": "SwNNPS8upLff",
        "outputId": "7ebca4d0-2fef-44fe-ded4-c7431e059089"
      },
      "execution_count": null,
      "outputs": [
        {
          "output_type": "execute_result",
          "data": {
            "text/plain": [
              "array([[-1.64338887, -1.78158721, -0.75735714, ...,  0.        ,\n",
              "         0.        ,  0.        ],\n",
              "       [-1.5312581 , -1.78158721, -0.75735714, ...,  0.        ,\n",
              "         0.        ,  0.        ],\n",
              "       [-1.5312581 , -1.78158721, -0.75735714, ...,  0.        ,\n",
              "         0.        ,  0.        ],\n",
              "       ...,\n",
              "       [-0.63421191, -1.71653013, -0.75735714, ...,  0.        ,\n",
              "         0.        ,  0.        ],\n",
              "       [-0.52208113, -1.71653013,  1.32038104, ...,  0.        ,\n",
              "         0.        ,  0.        ],\n",
              "       [-0.52208113, -1.71653013,  1.32038104, ...,  0.        ,\n",
              "         0.        ,  0.        ]])"
            ]
          },
          "metadata": {},
          "execution_count": 39
        }
      ]
    },
    {
      "cell_type": "code",
      "source": [
        "X_train_df, X_test_df, X_val_df, y_train_df, y_test_df, y_val_df = load_data(numpy=False, environment=\"colab\")"
      ],
      "metadata": {
        "id": "hWg0MFDWlyYo"
      },
      "execution_count": null,
      "outputs": []
    },
    {
      "cell_type": "code",
      "source": [
        "display(X_train_df.head())\n",
        "print(X_train_df.columns)"
      ],
      "metadata": {
        "colab": {
          "base_uri": "https://localhost:8080/",
          "height": 525
        },
        "id": "Bpr8qOY_pNsX",
        "outputId": "dd33f6e6-b2d0-4eac-fc59-b920b6bf16b5"
      },
      "execution_count": null,
      "outputs": [
        {
          "output_type": "display_data",
          "data": {
            "text/plain": [
              "        day      week  is_weekend   amt_log  merch_lat  merch_long  \\\n",
              "0 -1.643389 -1.781587   -0.757357 -1.060622   1.064712   -1.416337   \n",
              "1 -1.531258 -1.781587   -0.757357  0.369892   0.681984   -1.365695   \n",
              "2 -1.531258 -1.781587   -0.757357  0.685878   0.866421   -1.373925   \n",
              "3 -1.531258 -1.781587   -0.757357  0.067388   0.722970   -1.344176   \n",
              "4 -1.531258 -1.781587   -0.757357 -0.110475   0.936944   -1.296524   \n",
              "\n",
              "   total_seconds_day      hour       age       zip  ...  category_grocery_pos  \\\n",
              "0          -0.076532 -0.118803 -0.737671  1.253131  ...                     0   \n",
              "1          -0.668388 -0.705570 -0.737671  1.253131  ...                     0   \n",
              "2          -0.661915 -0.705570 -0.737671  1.253131  ...                     0   \n",
              "3          -0.098557 -0.118803 -0.737671  1.253131  ...                     0   \n",
              "4          -0.019089  0.027889 -0.737671  1.253131  ...                     0   \n",
              "\n",
              "   category_health_fitness  category_home  category_kids_pets  \\\n",
              "0                        0              0                   0   \n",
              "1                        0              0                   0   \n",
              "2                        0              0                   0   \n",
              "3                        0              0                   1   \n",
              "4                        0              1                   0   \n",
              "\n",
              "   category_misc_net  category_misc_pos  category_personal_care  \\\n",
              "0                  1                  0                       0   \n",
              "1                  0                  0                       0   \n",
              "2                  0                  0                       0   \n",
              "3                  0                  0                       0   \n",
              "4                  0                  0                       0   \n",
              "\n",
              "   category_shopping_net  category_shopping_pos  category_travel  \n",
              "0                      0                      0                0  \n",
              "1                      0                      0                0  \n",
              "2                      0                      0                0  \n",
              "3                      0                      0                0  \n",
              "4                      0                      0                0  \n",
              "\n",
              "[5 rows x 39 columns]"
            ],
            "text/html": [
              "\n",
              "  <div id=\"df-acd832dc-0f5c-4530-92e7-d4ea59196ab3\">\n",
              "    <div class=\"colab-df-container\">\n",
              "      <div>\n",
              "<style scoped>\n",
              "    .dataframe tbody tr th:only-of-type {\n",
              "        vertical-align: middle;\n",
              "    }\n",
              "\n",
              "    .dataframe tbody tr th {\n",
              "        vertical-align: top;\n",
              "    }\n",
              "\n",
              "    .dataframe thead th {\n",
              "        text-align: right;\n",
              "    }\n",
              "</style>\n",
              "<table border=\"1\" class=\"dataframe\">\n",
              "  <thead>\n",
              "    <tr style=\"text-align: right;\">\n",
              "      <th></th>\n",
              "      <th>day</th>\n",
              "      <th>week</th>\n",
              "      <th>is_weekend</th>\n",
              "      <th>amt_log</th>\n",
              "      <th>merch_lat</th>\n",
              "      <th>merch_long</th>\n",
              "      <th>total_seconds_day</th>\n",
              "      <th>hour</th>\n",
              "      <th>age</th>\n",
              "      <th>zip</th>\n",
              "      <th>...</th>\n",
              "      <th>category_grocery_pos</th>\n",
              "      <th>category_health_fitness</th>\n",
              "      <th>category_home</th>\n",
              "      <th>category_kids_pets</th>\n",
              "      <th>category_misc_net</th>\n",
              "      <th>category_misc_pos</th>\n",
              "      <th>category_personal_care</th>\n",
              "      <th>category_shopping_net</th>\n",
              "      <th>category_shopping_pos</th>\n",
              "      <th>category_travel</th>\n",
              "    </tr>\n",
              "  </thead>\n",
              "  <tbody>\n",
              "    <tr>\n",
              "      <th>0</th>\n",
              "      <td>-1.643389</td>\n",
              "      <td>-1.781587</td>\n",
              "      <td>-0.757357</td>\n",
              "      <td>-1.060622</td>\n",
              "      <td>1.064712</td>\n",
              "      <td>-1.416337</td>\n",
              "      <td>-0.076532</td>\n",
              "      <td>-0.118803</td>\n",
              "      <td>-0.737671</td>\n",
              "      <td>1.253131</td>\n",
              "      <td>...</td>\n",
              "      <td>0</td>\n",
              "      <td>0</td>\n",
              "      <td>0</td>\n",
              "      <td>0</td>\n",
              "      <td>1</td>\n",
              "      <td>0</td>\n",
              "      <td>0</td>\n",
              "      <td>0</td>\n",
              "      <td>0</td>\n",
              "      <td>0</td>\n",
              "    </tr>\n",
              "    <tr>\n",
              "      <th>1</th>\n",
              "      <td>-1.531258</td>\n",
              "      <td>-1.781587</td>\n",
              "      <td>-0.757357</td>\n",
              "      <td>0.369892</td>\n",
              "      <td>0.681984</td>\n",
              "      <td>-1.365695</td>\n",
              "      <td>-0.668388</td>\n",
              "      <td>-0.705570</td>\n",
              "      <td>-0.737671</td>\n",
              "      <td>1.253131</td>\n",
              "      <td>...</td>\n",
              "      <td>0</td>\n",
              "      <td>0</td>\n",
              "      <td>0</td>\n",
              "      <td>0</td>\n",
              "      <td>0</td>\n",
              "      <td>0</td>\n",
              "      <td>0</td>\n",
              "      <td>0</td>\n",
              "      <td>0</td>\n",
              "      <td>0</td>\n",
              "    </tr>\n",
              "    <tr>\n",
              "      <th>2</th>\n",
              "      <td>-1.531258</td>\n",
              "      <td>-1.781587</td>\n",
              "      <td>-0.757357</td>\n",
              "      <td>0.685878</td>\n",
              "      <td>0.866421</td>\n",
              "      <td>-1.373925</td>\n",
              "      <td>-0.661915</td>\n",
              "      <td>-0.705570</td>\n",
              "      <td>-0.737671</td>\n",
              "      <td>1.253131</td>\n",
              "      <td>...</td>\n",
              "      <td>0</td>\n",
              "      <td>0</td>\n",
              "      <td>0</td>\n",
              "      <td>0</td>\n",
              "      <td>0</td>\n",
              "      <td>0</td>\n",
              "      <td>0</td>\n",
              "      <td>0</td>\n",
              "      <td>0</td>\n",
              "      <td>0</td>\n",
              "    </tr>\n",
              "    <tr>\n",
              "      <th>3</th>\n",
              "      <td>-1.531258</td>\n",
              "      <td>-1.781587</td>\n",
              "      <td>-0.757357</td>\n",
              "      <td>0.067388</td>\n",
              "      <td>0.722970</td>\n",
              "      <td>-1.344176</td>\n",
              "      <td>-0.098557</td>\n",
              "      <td>-0.118803</td>\n",
              "      <td>-0.737671</td>\n",
              "      <td>1.253131</td>\n",
              "      <td>...</td>\n",
              "      <td>0</td>\n",
              "      <td>0</td>\n",
              "      <td>0</td>\n",
              "      <td>1</td>\n",
              "      <td>0</td>\n",
              "      <td>0</td>\n",
              "      <td>0</td>\n",
              "      <td>0</td>\n",
              "      <td>0</td>\n",
              "      <td>0</td>\n",
              "    </tr>\n",
              "    <tr>\n",
              "      <th>4</th>\n",
              "      <td>-1.531258</td>\n",
              "      <td>-1.781587</td>\n",
              "      <td>-0.757357</td>\n",
              "      <td>-0.110475</td>\n",
              "      <td>0.936944</td>\n",
              "      <td>-1.296524</td>\n",
              "      <td>-0.019089</td>\n",
              "      <td>0.027889</td>\n",
              "      <td>-0.737671</td>\n",
              "      <td>1.253131</td>\n",
              "      <td>...</td>\n",
              "      <td>0</td>\n",
              "      <td>0</td>\n",
              "      <td>1</td>\n",
              "      <td>0</td>\n",
              "      <td>0</td>\n",
              "      <td>0</td>\n",
              "      <td>0</td>\n",
              "      <td>0</td>\n",
              "      <td>0</td>\n",
              "      <td>0</td>\n",
              "    </tr>\n",
              "  </tbody>\n",
              "</table>\n",
              "<p>5 rows × 39 columns</p>\n",
              "</div>\n",
              "      <button class=\"colab-df-convert\" onclick=\"convertToInteractive('df-acd832dc-0f5c-4530-92e7-d4ea59196ab3')\"\n",
              "              title=\"Convert this dataframe to an interactive table.\"\n",
              "              style=\"display:none;\">\n",
              "        \n",
              "  <svg xmlns=\"http://www.w3.org/2000/svg\" height=\"24px\"viewBox=\"0 0 24 24\"\n",
              "       width=\"24px\">\n",
              "    <path d=\"M0 0h24v24H0V0z\" fill=\"none\"/>\n",
              "    <path d=\"M18.56 5.44l.94 2.06.94-2.06 2.06-.94-2.06-.94-.94-2.06-.94 2.06-2.06.94zm-11 1L8.5 8.5l.94-2.06 2.06-.94-2.06-.94L8.5 2.5l-.94 2.06-2.06.94zm10 10l.94 2.06.94-2.06 2.06-.94-2.06-.94-.94-2.06-.94 2.06-2.06.94z\"/><path d=\"M17.41 7.96l-1.37-1.37c-.4-.4-.92-.59-1.43-.59-.52 0-1.04.2-1.43.59L10.3 9.45l-7.72 7.72c-.78.78-.78 2.05 0 2.83L4 21.41c.39.39.9.59 1.41.59.51 0 1.02-.2 1.41-.59l7.78-7.78 2.81-2.81c.8-.78.8-2.07 0-2.86zM5.41 20L4 18.59l7.72-7.72 1.47 1.35L5.41 20z\"/>\n",
              "  </svg>\n",
              "      </button>\n",
              "      \n",
              "  <style>\n",
              "    .colab-df-container {\n",
              "      display:flex;\n",
              "      flex-wrap:wrap;\n",
              "      gap: 12px;\n",
              "    }\n",
              "\n",
              "    .colab-df-convert {\n",
              "      background-color: #E8F0FE;\n",
              "      border: none;\n",
              "      border-radius: 50%;\n",
              "      cursor: pointer;\n",
              "      display: none;\n",
              "      fill: #1967D2;\n",
              "      height: 32px;\n",
              "      padding: 0 0 0 0;\n",
              "      width: 32px;\n",
              "    }\n",
              "\n",
              "    .colab-df-convert:hover {\n",
              "      background-color: #E2EBFA;\n",
              "      box-shadow: 0px 1px 2px rgba(60, 64, 67, 0.3), 0px 1px 3px 1px rgba(60, 64, 67, 0.15);\n",
              "      fill: #174EA6;\n",
              "    }\n",
              "\n",
              "    [theme=dark] .colab-df-convert {\n",
              "      background-color: #3B4455;\n",
              "      fill: #D2E3FC;\n",
              "    }\n",
              "\n",
              "    [theme=dark] .colab-df-convert:hover {\n",
              "      background-color: #434B5C;\n",
              "      box-shadow: 0px 1px 3px 1px rgba(0, 0, 0, 0.15);\n",
              "      filter: drop-shadow(0px 1px 2px rgba(0, 0, 0, 0.3));\n",
              "      fill: #FFFFFF;\n",
              "    }\n",
              "  </style>\n",
              "\n",
              "      <script>\n",
              "        const buttonEl =\n",
              "          document.querySelector('#df-acd832dc-0f5c-4530-92e7-d4ea59196ab3 button.colab-df-convert');\n",
              "        buttonEl.style.display =\n",
              "          google.colab.kernel.accessAllowed ? 'block' : 'none';\n",
              "\n",
              "        async function convertToInteractive(key) {\n",
              "          const element = document.querySelector('#df-acd832dc-0f5c-4530-92e7-d4ea59196ab3');\n",
              "          const dataTable =\n",
              "            await google.colab.kernel.invokeFunction('convertToInteractive',\n",
              "                                                     [key], {});\n",
              "          if (!dataTable) return;\n",
              "\n",
              "          const docLinkHtml = 'Like what you see? Visit the ' +\n",
              "            '<a target=\"_blank\" href=https://colab.research.google.com/notebooks/data_table.ipynb>data table notebook</a>'\n",
              "            + ' to learn more about interactive tables.';\n",
              "          element.innerHTML = '';\n",
              "          dataTable['output_type'] = 'display_data';\n",
              "          await google.colab.output.renderOutput(dataTable, element);\n",
              "          const docLink = document.createElement('div');\n",
              "          docLink.innerHTML = docLinkHtml;\n",
              "          element.appendChild(docLink);\n",
              "        }\n",
              "      </script>\n",
              "    </div>\n",
              "  </div>\n",
              "  "
            ]
          },
          "metadata": {}
        },
        {
          "output_type": "stream",
          "name": "stdout",
          "text": [
            "Index(['day', 'week', 'is_weekend', 'amt_log', 'merch_lat', 'merch_long',\n",
            "       'total_seconds_day', 'hour', 'age', 'zip', 'month', 'city_pop',\n",
            "       'amt_week_quarter', 'amt_day_7d_merch', 'amt_day_30d_merch',\n",
            "       'amt_day_30d_cat', 'amt_day_7d_cat', 'amt_day_month_merch_quarter',\n",
            "       'amt_day_week_merch_quarter', 'cumsum_amt_day', 'cumcount_trans_day',\n",
            "       'cumcount_trans_month_merch', 'time_since_last_trans', 'lag_fraud',\n",
            "       'distance', 'gender_m', 'category_food_dining',\n",
            "       'category_gas_transport', 'category_grocery_net',\n",
            "       'category_grocery_pos', 'category_health_fitness', 'category_home',\n",
            "       'category_kids_pets', 'category_misc_net', 'category_misc_pos',\n",
            "       'category_personal_care', 'category_shopping_net',\n",
            "       'category_shopping_pos', 'category_travel'],\n",
            "      dtype='object')\n"
          ]
        }
      ]
    },
    {
      "cell_type": "markdown",
      "metadata": {
        "id": "eNzpiaLA2En9"
      },
      "source": [
        "# Check important features"
      ]
    },
    {
      "cell_type": "code",
      "execution_count": null,
      "metadata": {
        "id": "6TYAjfoKfdiA"
      },
      "outputs": [],
      "source": [
        "features_importance_to_keep = [\"day\", \"week\", \"is_weekend\", \"amt_log\",\n",
        "                               \"age\", \"zip\", \"month\", \"amt_week_quarter\",\n",
        "                               \"amt_day_7d_merch\", \"amt_day_30d_merch\", \"amt_day_30d_cat\", \n",
        "                               \"amt_day_7d_cat\", \"amt_day_month_merch_quarter\", \n",
        "                               \"amt_day_week_merch_quarter\", \"cumsum_amt_day\", \"cumcount_trans_day\",\n",
        "                               \"cumcount_trans_month_merch\", \"time_since_last_trans\", \"lag_fraud\", \"distance\"]"
      ]
    },
    {
      "cell_type": "code",
      "execution_count": null,
      "metadata": {
        "colab": {
          "base_uri": "https://localhost:8080/"
        },
        "id": "WW-T9rgpgKiS",
        "outputId": "72c491c7-64f0-4353-ad7d-d338345f9453"
      },
      "outputs": [
        {
          "output_type": "execute_result",
          "data": {
            "text/plain": [
              "['hour',\n",
              " 'zip',\n",
              " 'month',\n",
              " 'amt_day_7d_merch',\n",
              " 'amt_day_30d_merch',\n",
              " 'amt_day_month_merch_quarter',\n",
              " 'amt_day_week_merch_quarter']"
            ]
          },
          "metadata": {},
          "execution_count": 21
        }
      ],
      "source": [
        "def correlated_features(X, correlation_threshold = 0.80):\n",
        "    \"\"\"\n",
        "    Identifies features that are highly correlated. Let's assume that if\n",
        "    two features or more are highly correlated, I can randomly select\n",
        "    one of them and discard the rest without losing much information.\n",
        "    \n",
        "    \n",
        "    Parameters\n",
        "    ----------\n",
        "    X : pandas dataframe\n",
        "        A data set where each row is an observation and each column a feature.\n",
        "        \n",
        "    correlation_threshold: float, optional (default = 0.90)\n",
        "        The threshold used to identify highly correlated features.\n",
        "        \n",
        "    Returns\n",
        "    -------\n",
        "    labels: list\n",
        "        A list with the labels identifying the features that contain a \n",
        "        large fraction of constant values.\n",
        "    \"\"\"\n",
        "    \n",
        "    # Make correlation matrix\n",
        "    corr_matrix = X.corr(method = \"spearman\").abs()\n",
        "    \n",
        "    \n",
        "    # Select upper triangle of matrix\n",
        "    upper = corr_matrix.where(np.triu(np.ones(corr_matrix.shape), k=1).astype(bool))\n",
        "    \n",
        "    # Find index of feature columns with correlation greater than correlation_threshold\n",
        "    labels = [column for column in upper.columns if any(upper[column] > correlation_threshold)]\n",
        "    \n",
        "    return labels\n",
        "\n",
        "corr_features = correlated_features(X_train_df)\n",
        "corr_features"
      ]
    },
    {
      "cell_type": "markdown",
      "source": [
        "## K-Best selection"
      ],
      "metadata": {
        "id": "uqWaLzXZP_jZ"
      }
    },
    {
      "cell_type": "code",
      "execution_count": null,
      "metadata": {
        "colab": {
          "base_uri": "https://localhost:8080/",
          "height": 483
        },
        "id": "xxBzcfd-V5yy",
        "outputId": "36839763-7a2f-4a4a-a368-d876f836d3c9"
      },
      "outputs": [
        {
          "output_type": "stream",
          "name": "stderr",
          "text": [
            "/usr/local/lib/python3.7/dist-packages/sklearn/utils/validation.py:993: DataConversionWarning: A column-vector y was passed when a 1d array was expected. Please change the shape of y to (n_samples, ), for example using ravel().\n",
            "  y = column_or_1d(y, warn=True)\n"
          ]
        },
        {
          "output_type": "display_data",
          "data": {
            "text/plain": [
              "<Figure size 1080x504 with 1 Axes>"
            ],
            "image/png": "[encoded data removed]"
          },
          "metadata": {}
        }
      ],
      "source": [
        "from sklearn.feature_selection import SelectKBest, f_classif\n",
        "\n",
        "# instantiate K-Best Selection using F Classification\n",
        "fs = SelectKBest(score_func=f_classif, k=20)\n",
        "\n",
        "# learn relationship from training data\n",
        "fs.fit(X_train_df, y_train_df)\n",
        "\n",
        "# transform train input data\n",
        "X_train_fs = fs.transform(X_train_df)\n",
        "\n",
        "# ticks names and order\n",
        "fs_scores = pd.DataFrame({\"X_column\": X_train_df.columns, \n",
        "                          \"fs\": fs.scores_}).sort_values(by=\"fs\", \n",
        "                                                         ascending=False)\n",
        "# plot\n",
        "fig, ax = plt.subplots(figsize=(15, 7))\n",
        "sns.barplot(y=fs_scores[\"X_column\"], x=fs_scores[\"fs\"], palette=\"colorblind\", \n",
        "            orient=\"h\")\n",
        "plt.xticks(rotation=90)\n",
        "sns.despine()\n",
        "plt.show()"
      ]
    },
    {
      "cell_type": "markdown",
      "source": [
        "## Random Forest: Feature importance"
      ],
      "metadata": {
        "id": "oIwuElZwQK8Q"
      }
    },
    {
      "cell_type": "code",
      "execution_count": null,
      "metadata": {
        "colab": {
          "base_uri": "https://localhost:8080/",
          "height": 287
        },
        "id": "dNNmyX60WXxh",
        "outputId": "ac373fc7-210f-48f0-c779-deb749384e48"
      },
      "outputs": [
        {
          "output_type": "stream",
          "name": "stderr",
          "text": [
            "/usr/local/lib/python3.7/dist-packages/ipykernel_launcher.py:8: DataConversionWarning: A column-vector y was passed when a 1d array was expected. Please change the shape of y to (n_samples,), for example using ravel().\n",
            "  \n"
          ]
        },
        {
          "output_type": "stream",
          "name": "stdout",
          "text": [
            "AUC on train data:  0.9817491585404836\n"
          ]
        },
        {
          "output_type": "error",
          "ename": "AttributeError",
          "evalue": "ignored",
          "traceback": [
            "\u001b[0;31m---------------------------------------------------------------------------\u001b[0m",
            "\u001b[0;31mAttributeError\u001b[0m                            Traceback (most recent call last)",
            "\u001b[0;32m<ipython-input-29-bb2f9ecab7d3>\u001b[0m in \u001b[0;36m<module>\u001b[0;34m\u001b[0m\n\u001b[1;32m     18\u001b[0m \u001b[0mfeat_importances\u001b[0m \u001b[0;34m=\u001b[0m \u001b[0mpd\u001b[0m\u001b[0;34m.\u001b[0m\u001b[0mSeries\u001b[0m\u001b[0;34m(\u001b[0m\u001b[0mmodel_RFC\u001b[0m\u001b[0;34m.\u001b[0m\u001b[0mfeature_importances_\u001b[0m\u001b[0;34m,\u001b[0m \u001b[0mindex\u001b[0m\u001b[0;34m=\u001b[0m\u001b[0mX_train_df\u001b[0m\u001b[0;34m.\u001b[0m\u001b[0mcolumns\u001b[0m\u001b[0;34m)\u001b[0m\u001b[0;34m\u001b[0m\u001b[0;34m\u001b[0m\u001b[0m\n\u001b[1;32m     19\u001b[0m \u001b[0;34m\u001b[0m\u001b[0m\n\u001b[0;32m---> 20\u001b[0;31m \u001b[0msorted\u001b[0m\u001b[0;34m(\u001b[0m\u001b[0mfeat_importances\u001b[0m\u001b[0;34m)\u001b[0m\u001b[0;34m.\u001b[0m\u001b[0mnlargest\u001b[0m\u001b[0;34m(\u001b[0m\u001b[0;36m10\u001b[0m\u001b[0;34m)\u001b[0m\u001b[0;34m.\u001b[0m\u001b[0mplot\u001b[0m\u001b[0;34m(\u001b[0m\u001b[0mkind\u001b[0m\u001b[0;34m=\u001b[0m\u001b[0;34m'barh'\u001b[0m\u001b[0;34m)\u001b[0m\u001b[0;34m\u001b[0m\u001b[0;34m\u001b[0m\u001b[0m\n\u001b[0m\u001b[1;32m     21\u001b[0m \u001b[0msns\u001b[0m\u001b[0;34m.\u001b[0m\u001b[0mdespine\u001b[0m\u001b[0;34m(\u001b[0m\u001b[0;34m)\u001b[0m\u001b[0;34m\u001b[0m\u001b[0;34m\u001b[0m\u001b[0m\n",
            "\u001b[0;31mAttributeError\u001b[0m: 'list' object has no attribute 'nlargest'"
          ]
        },
        {
          "output_type": "display_data",
          "data": {
            "text/plain": [
              "<Figure size 720x504 with 0 Axes>"
            ]
          },
          "metadata": {}
        }
      ],
      "source": [
        "from sklearn.ensemble import RandomForestClassifier\n",
        "from sklearn.metrics import roc_auc_score\n",
        "\n",
        "# create RandomForestClassifier object\n",
        "model_RFC = RandomForestClassifier(max_depth=10)\n",
        "\n",
        "# fit the model\n",
        "model_RFC.fit(X_train_df, y_train_df)\n",
        "\n",
        "# model predictions\n",
        "train_preds = model_RFC.predict(X_train_df)\n",
        "\n",
        "# AUC score in the train dataset\n",
        "print('AUC on train data: ', roc_auc_score(y_train_df, train_preds))"
      ]
    },
    {
      "cell_type": "code",
      "source": [
        "# plot the 10 most important features\n",
        "plt.figure(figsize=(10,7))\n",
        "feat_importances = pd.Series(model_RFC.feature_importances_, \n",
        "                             index=X_train_df.columns)\n",
        "feat_importances.sort_values(ascending=True).nlargest(10).plot(kind='barh')\n",
        "sns.despine()"
      ],
      "metadata": {
        "colab": {
          "base_uri": "https://localhost:8080/",
          "height": 429
        },
        "id": "OKi-HElDq0Pj",
        "outputId": "8f16bd18-c4a4-4265-b996-0cbc52946127"
      },
      "execution_count": null,
      "outputs": [
        {
          "output_type": "display_data",
          "data": {
            "text/plain": [
              "<Figure size 720x504 with 1 Axes>"
            ],
            "image/png": "[encoded data removed]"
          },
          "metadata": {}
        }
      ]
    },
    {
      "cell_type": "code",
      "execution_count": null,
      "metadata": {
        "colab": {
          "base_uri": "https://localhost:8080/",
          "height": 429
        },
        "id": "jozx6ZcxEAvC",
        "outputId": "b7680e10-4821-4d6a-bacf-c12064f96d1d"
      },
      "outputs": [
        {
          "output_type": "display_data",
          "data": {
            "text/plain": [
              "<Figure size 720x504 with 1 Axes>"
            ],
            "image/png": "[encoded data removed]"
          },
          "metadata": {}
        }
      ],
      "source": [
        "# plot the 20 most important features \n",
        "plt.figure(figsize=(10,7))\n",
        "feat_importances = pd.Series(model_RFC.feature_importances_, index=X_train_df.columns)\n",
        "feat_importances.sort_values(ascending=False).nlargest(20).plot(kind='barh')\n",
        "sns.despine()"
      ]
    },
    {
      "cell_type": "markdown",
      "source": [
        "# Conclusion"
      ],
      "metadata": {
        "id": "AxJFCdq-prel"
      }
    }
  ],
  "metadata": {
    "colab": {
      "provenance": [],
      "include_colab_link": true
    },
    "kernelspec": {
      "display_name": "Python 3",
      "language": "python",
      "name": "python3"
    },
    "language_info": {
      "codemirror_mode": {
        "name": "ipython",
        "version": 3
      },
      "file_extension": ".py",
      "mimetype": "text/x-python",
      "name": "python",
      "nbconvert_exporter": "python",
      "pygments_lexer": "ipython3",
      "version": "3.7.4"
    },
    "toc": {
      "base_numbering": 1,
      "nav_menu": {},
      "number_sections": true,
      "sideBar": true,
      "skip_h1_title": false,
      "title_cell": "Table of Contents",
      "title_sidebar": "Contents",
      "toc_cell": false,
      "toc_position": {
        "height": "452.593px",
        "left": "69px",
        "top": "111.019px",
        "width": "249.19px"
      },
      "toc_section_display": true,
      "toc_window_display": true
    },
    "varInspector": {
      "cols": {
        "lenName": 16,
        "lenType": 16,
        "lenVar": 40
      },
      "kernels_config": {
        "python": {
          "delete_cmd_postfix": "",
          "delete_cmd_prefix": "del ",
          "library": "var_list.py",
          "varRefreshCmd": "print(var_dic_list())"
        },
        "r": {
          "delete_cmd_postfix": ") ",
          "delete_cmd_prefix": "rm(",
          "library": "var_list.r",
          "varRefreshCmd": "cat(var_dic_list()) "
        }
      },
      "types_to_exclude": [
        "module",
        "function",
        "builtin_function_or_method",
        "instance",
        "_Feature"
      ],
      "window_display": false
    }
  },
  "nbformat": 4,
  "nbformat_minor": 0
}